{
 "cells": [
  {
   "cell_type": "code",
   "execution_count": 1,
   "metadata": {},
   "outputs": [],
   "source": [
    "import re\n",
    "from nltk import ngrams, sent_tokenize, FreqDist\n",
    "from os import listdir\n",
    "import sys"
   ]
  },
  {
   "cell_type": "code",
   "execution_count": 2,
   "metadata": {},
   "outputs": [],
   "source": [
    "rmv = re.compile('(?:[^\\w. \\n]+)')\n",
    "rep = re.compile('(?:[.][. ]*[.])')\n",
    "trs = re.compile('[\\n ]+')\n",
    "\n",
    "def CleanString(inString):\n",
    "    res = rmv.sub('', inString)\n",
    "    res = rep.sub(' ', res)\n",
    "    res = trs.sub(' ', res)\n",
    "    return res.strip().lower()\n"
   ]
  },
  {
   "cell_type": "code",
   "execution_count": 3,
   "metadata": {},
   "outputs": [],
   "source": [
    "class LangModel:\n",
    "    def __init__(self, authName, datText):\n",
    "        self.auth = authName\n",
    "        self.trigram = []\n",
    "        self.bigram = []\n",
    "        self.tokTxt = []\n",
    "        self.triCount = {}\n",
    "        self.biCount = {}\n",
    "\n",
    "        self.tokTxt = sent_tokenize(datText)\n",
    "\n",
    "        for txt in self.tokTxt:\n",
    "            txt=\"<s> \" + txt + \" </s>\"\n",
    "            splitTxt = txt.split()\n",
    "\n",
    "            trigramTxt = list(ngrams(splitTxt, 3))\n",
    "            self.trigram += trigramTxt\n",
    "\n",
    "            bigramTxt = list(ngrams(splitTxt, 2))\n",
    "            self.bigram += bigramTxt\n",
    "\n",
    "        triFDist = FreqDist(self.trigram)\n",
    "        biFDist = FreqDist(self.bigram)\n",
    "\n",
    "        for triG, Count in triFDist.items():\n",
    "            self.triCount[triG] = Count\n",
    "\n",
    "        for biG, Count in biFDist.items():\n",
    "            self.biCount[biG] = Count\n",
    "        \n",
    "        print(\"Auth: {}, Trigram Size: {}, Bigram Size: {}\\n\".format(self.auth, len(self.triCount), len(self.biCount)))\n",
    "        \n",
    "    def Predict(self, testText):\n",
    "        prob = 1\n",
    "        tokTest = sent_tokenize(testText)\n",
    "        \n",
    "        testTriG = []\n",
    "        testBiG = []\n",
    "        \n",
    "        for txt in tokTest:\n",
    "            txt=\"<s> \" + txt + \" </s>\"\n",
    "            splitTxt = txt.split()\n",
    "\n",
    "            trigramTxt = list(ngrams(splitTxt, 3))\n",
    "            testTriG += trigramTxt\n",
    "\n",
    "            bigramTxt = list(ngrams(splitTxt, 2))\n",
    "            testBiG += bigramTxt\n",
    "        \n",
    "        for testTup in testTriG:\n",
    "            testwrd1, testwrd2, testwrd3 = testTup\n",
    "            testPair = (testwrd1, testwrd2)\n",
    "            \n",
    "            triGCount = 0\n",
    "            biGCount = 0\n",
    "            \n",
    "            if (testTup not in self.triCount):\n",
    "                triGCount = 0\n",
    "            else:\n",
    "                triGCount = self.triCount[testTup]\n",
    "\n",
    "            if (testPair not in self.biCount):\n",
    "                biGCount = 0\n",
    "            else:\n",
    "                biGCount = self.biCount[testPair]\n",
    "\n",
    "            prob *= (triGCount + 1) / (biGCount + len(self.biCount.keys()))\n",
    "        \n",
    "        return prob\n"
   ]
  },
  {
   "cell_type": "code",
   "execution_count": 4,
   "metadata": {},
   "outputs": [],
   "source": [
    "foldPath = 'author_dataset'\n",
    "trainPath = './{}/training/'.format(foldPath)\n",
    "testPath = './{}/test/'.format(foldPath)"
   ]
  },
  {
   "cell_type": "code",
   "execution_count": 5,
   "metadata": {},
   "outputs": [],
   "source": [
    "training = listdir(trainPath)\n",
    "training = sorted(training)"
   ]
  },
  {
   "cell_type": "code",
   "execution_count": 6,
   "metadata": {},
   "outputs": [
    {
     "name": "stdout",
     "output_type": "stream",
     "text": [
      "Auth: Abraham Lincoln, Trigram Size: 94792, Bigram Size: 57126\n",
      "\n",
      "Auth: Andrew Lang, Trigram Size: 253858, Bigram Size: 150512\n",
      "\n",
      "Auth: Jack London, Trigram Size: 252228, Bigram Size: 144334\n",
      "\n",
      "Auth: Jane Austen, Trigram Size: 377381, Bigram Size: 172531\n",
      "\n",
      "Auth: Sir Arthur Conan Doyle, Trigram Size: 167946, Bigram Size: 95627\n",
      "\n"
     ]
    }
   ],
   "source": [
    "AuthorName = ['Abraham Lincoln', 'Andrew Lang', 'Jack London', 'Jane Austen', 'Sir Arthur Conan Doyle']\n",
    "Models = []\n",
    "for i in range(0,5):\n",
    "    authorText = \"\"\n",
    "    for j in range(i * 5 + 0,i * 5 + 5):\n",
    "        authorText += CleanString(open(trainPath + training[j],'r').read() + '\\n')\n",
    "    Models.append(LangModel(AuthorName[i], authorText))"
   ]
  },
  {
   "cell_type": "code",
   "execution_count": 7,
   "metadata": {},
   "outputs": [],
   "source": [
    "test = listdir(testPath)\n",
    "test = sorted(test)"
   ]
  },
  {
   "cell_type": "code",
   "execution_count": 8,
   "metadata": {},
   "outputs": [
    {
     "name": "stdout",
     "output_type": "stream",
     "text": [
      "Target: Abraham Lincoln, Prediction: Abraham Lincoln\n",
      "\n",
      "Target: Andrew Lang, Prediction: Abraham Lincoln\n",
      "\n",
      "Target: Jack London, Prediction: Abraham Lincoln\n",
      "\n",
      "Target: Jane Austen, Prediction: Abraham Lincoln\n",
      "\n",
      "Target: Sir Arthur Conan Doyle, Prediction: Abraham Lincoln\n",
      "\n",
      "Accuracy = 20%\n"
     ]
    }
   ],
   "source": [
    "cnt = 0\n",
    "for tester in test:\n",
    "    mProb = -1\n",
    "    predAuth = \"\"\n",
    "    realAuth = tester.split('__')[0]\n",
    "    testTxt = CleanString(open(testPath + tester, 'r').read())\n",
    "    for model in Models:\n",
    "        pred = model.Predict(testTxt)\n",
    "        if pred > mProb:\n",
    "            mProb = pred\n",
    "            predAuth = model.auth\n",
    "    print(\"Target: {}, Prediction: {}\\n\".format(realAuth,predAuth))\n",
    "    if realAuth == predAuth:\n",
    "        cnt += 1\n",
    "print(\"Accuracy = {}%\".format(cnt * 20))"
   ]
  },
  {
   "cell_type": "code",
   "execution_count": null,
   "metadata": {},
   "outputs": [],
   "source": []
  }
 ],
 "metadata": {
  "kernelspec": {
   "display_name": "Python 3",
   "language": "python",
   "name": "python3"
  },
  "language_info": {
   "codemirror_mode": {
    "name": "ipython",
    "version": 3
   },
   "file_extension": ".py",
   "mimetype": "text/x-python",
   "name": "python",
   "nbconvert_exporter": "python",
   "pygments_lexer": "ipython3",
   "version": "3.7.4"
  }
 },
 "nbformat": 4,
 "nbformat_minor": 2
}
